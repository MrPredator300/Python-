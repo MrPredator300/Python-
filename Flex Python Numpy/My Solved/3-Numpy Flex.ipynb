{
 "cells": [
  {
   "cell_type": "code",
   "execution_count": 1,
   "metadata": {},
   "outputs": [
    {
     "name": "stdout",
     "output_type": "stream",
     "text": [
      "<class 'numpy.ndarray'>\n",
      "[2 3 4 5]\n"
     ]
    }
   ],
   "source": [
    "#Numpy Array\n",
    "import numpy as np\n",
    "x = np.array([2,3,4,5])\n",
    "print(type(x))\n",
    "print(x)"
   ]
  },
  {
   "cell_type": "code",
   "execution_count": 2,
   "metadata": {},
   "outputs": [
    {
     "name": "stdout",
     "output_type": "stream",
     "text": [
      "numpy can handle different catagorical entities ... \n",
      "\n",
      "<class 'numpy.ndarray'>\n",
      "['2' '3' 'n' '5']\n"
     ]
    }
   ],
   "source": [
    "#Trying Coercoins on Arrays\n",
    "print('numpy can handle different catagorical entities ... \\n')\n",
    "import numpy as np\n",
    "x = np.array([2,3,'n',5])\n",
    "print(type(x))\n",
    "print(x)"
   ]
  },
  {
   "cell_type": "code",
   "execution_count": 12,
   "metadata": {},
   "outputs": [
    {
     "name": "stdout",
     "output_type": "stream",
     "text": [
      "Our array is:\n",
      " [[1 2 3]\n",
      " [3 4 5]\n",
      " [4 5 6]]\n"
     ]
    },
    {
     "data": {
      "text/plain": [
       "array([ 8, 11, 14])"
      ]
     },
     "execution_count": 12,
     "metadata": {},
     "output_type": "execute_result"
    }
   ],
   "source": [
    "#Numpy Statistical functions\n",
    "import numpy as np\n",
    "a = np.array([[1,2,3],[3,4,5],[4,5,6]])\n",
    "print('Our array is:\\n',a)\n",
    "\n",
    "a.sum()\n",
    "np.sum(a)\n",
    "\n",
    "np.sum(a, axis=0)"
   ]
  },
  {
   "cell_type": "code",
   "execution_count": 13,
   "metadata": {},
   "outputs": [
    {
     "name": "stdout",
     "output_type": "stream",
     "text": [
      "Our array is:\n",
      " [[1 2 3]\n",
      " [3 4 5]\n",
      " [4 5 6]]\n"
     ]
    },
    {
     "data": {
      "text/plain": [
       "array([ 6, 12, 15])"
      ]
     },
     "execution_count": 13,
     "metadata": {},
     "output_type": "execute_result"
    }
   ],
   "source": [
    "#Numpy Statistical functions (cont..)\n",
    "import numpy as np\n",
    "a = np.array([[1,2,3],[3,4,5],[4,5,6]])\n",
    "print('Our array is:\\n',a)\n",
    "\n",
    "a.sum()\n",
    "np.sum(a)\n",
    "\n",
    "np.sum(a, axis=-1)"
   ]
  },
  {
   "cell_type": "code",
   "execution_count": 14,
   "metadata": {},
   "outputs": [
    {
     "name": "stdout",
     "output_type": "stream",
     "text": [
      "Our array is:\n",
      " [[1 2 3]\n",
      " [3 4 5]\n",
      " [4 5 6]]\n"
     ]
    },
    {
     "data": {
      "text/plain": [
       "3.6666666666666665"
      ]
     },
     "execution_count": 14,
     "metadata": {},
     "output_type": "execute_result"
    }
   ],
   "source": [
    "#Numpy Statistical functions (cont..)\n",
    "#Mean\n",
    "import numpy as np\n",
    "a = np.array([[1,2,3],[3,4,5],[4,5,6]])\n",
    "print('Our array is:\\n',a)\n",
    "\n",
    "a.mean()\n",
    "np.mean(a)"
   ]
  },
  {
   "cell_type": "code",
   "execution_count": 16,
   "metadata": {},
   "outputs": [
    {
     "name": "stdout",
     "output_type": "stream",
     "text": [
      "Our array is:\n",
      " [[1 2 3]\n",
      " [3 4 5]\n",
      " [4 5 6]]\n"
     ]
    },
    {
     "data": {
      "text/plain": [
       "2.2222222222222223"
      ]
     },
     "execution_count": 16,
     "metadata": {},
     "output_type": "execute_result"
    }
   ],
   "source": [
    "#Numpy Statistical functions (cont..)\n",
    "#Variance\n",
    "import numpy as np\n",
    "a = np.array([[1,2,3],[3,4,5],[4,5,6]])\n",
    "print('Our array is:\\n',a)\n",
    "\n",
    "a.var()\n",
    "np.var(a)"
   ]
  },
  {
   "cell_type": "code",
   "execution_count": 17,
   "metadata": {},
   "outputs": [
    {
     "name": "stdout",
     "output_type": "stream",
     "text": [
      "Our array is:\n",
      " [[1 2 3]\n",
      " [3 4 5]\n",
      " [4 5 6]]\n"
     ]
    },
    {
     "data": {
      "text/plain": [
       "1.4907119849998598"
      ]
     },
     "execution_count": 17,
     "metadata": {},
     "output_type": "execute_result"
    }
   ],
   "source": [
    "#Numpy Statistical functions (cont..)\n",
    "#Standard deviation\n",
    "import numpy as np\n",
    "a = np.array([[1,2,3],[3,4,5],[4,5,6]])\n",
    "print('Our array is:\\n',a)\n",
    "\n",
    "a.std()\n",
    "np.std(a)"
   ]
  },
  {
   "cell_type": "code",
   "execution_count": 20,
   "metadata": {},
   "outputs": [
    {
     "name": "stdout",
     "output_type": "stream",
     "text": [
      "[[1 2 3]\n",
      " [4 5 6]\n",
      " [7 8 9]]\n"
     ]
    }
   ],
   "source": [
    "#Materices (Creating a Matrix)\n",
    "import numpy as np\n",
    "m1 = np.matrix(\"1,2,3;4,5,6;7,8,9\")\n",
    "print(m1)"
   ]
  },
  {
   "cell_type": "code",
   "execution_count": 21,
   "metadata": {},
   "outputs": [
    {
     "name": "stdout",
     "output_type": "stream",
     "text": [
      "[[1 2 3]\n",
      " [4 5 6]\n",
      " [7 8 9]]\n"
     ]
    },
    {
     "data": {
      "text/plain": [
       "(3, 3)"
      ]
     },
     "execution_count": 21,
     "metadata": {},
     "output_type": "execute_result"
    }
   ],
   "source": [
    "#Materices (Creating a Matrix) Cont..\n",
    "#Size of Matrix\n",
    "import numpy as np\n",
    "m1 = np.matrix(\"1,2,3;4,5,6;7,8,9\")\n",
    "print(m1)\n",
    "\n",
    "m1.shape"
   ]
  },
  {
   "cell_type": "code",
   "execution_count": 22,
   "metadata": {},
   "outputs": [
    {
     "name": "stdout",
     "output_type": "stream",
     "text": [
      "[[1 2 3]\n",
      " [4 5 6]\n",
      " [7 8 9]]\n"
     ]
    },
    {
     "data": {
      "text/plain": [
       "9"
      ]
     },
     "execution_count": 22,
     "metadata": {},
     "output_type": "execute_result"
    }
   ],
   "source": [
    "#Materices (Creating a Matrix) Cont..\n",
    "#Size of Matrix\n",
    "import numpy as np\n",
    "m1 = np.matrix(\"1,2,3;4,5,6;7,8,9\")\n",
    "print(m1)\n",
    "\n",
    "m1.size"
   ]
  },
  {
   "cell_type": "code",
   "execution_count": 26,
   "metadata": {},
   "outputs": [
    {
     "name": "stdout",
     "output_type": "stream",
     "text": [
      "[[1 2 3]\n",
      " [4 5 6]\n",
      " [7 8 9]]\n"
     ]
    },
    {
     "data": {
      "text/plain": [
       "3"
      ]
     },
     "execution_count": 26,
     "metadata": {},
     "output_type": "execute_result"
    }
   ],
   "source": [
    "#Materices (Creating a Matrix) Cont..\n",
    "#Size of Matrix\n",
    "import numpy as np\n",
    "m1 = np.matrix(\"1,2,3;4,5,6;7,8,9\")\n",
    "print(m1)\n",
    "\n",
    "m1.shape[0]\n",
    "m1.shape[1]"
   ]
  },
  {
   "cell_type": "code",
   "execution_count": 30,
   "metadata": {},
   "outputs": [
    {
     "name": "stdout",
     "output_type": "stream",
     "text": [
      "[[ 0  1  2  3]\n",
      " [ 4  5  6  7]\n",
      " [ 8  9 10 11]\n",
      " [12 13 14 15]\n",
      " [16 17 18 19]]\n"
     ]
    }
   ],
   "source": [
    "#Inserting a row and Column to a matrix\n",
    "import numpy as np\n",
    "T = np.matrix(np.arange(0,20)).reshape(5,4)\n",
    "print(T)"
   ]
  },
  {
   "cell_type": "code",
   "execution_count": 2,
   "metadata": {},
   "outputs": [
    {
     "name": "stdout",
     "output_type": "stream",
     "text": [
      "[[3 9 0 8 8]]\n"
     ]
    }
   ],
   "source": [
    "#Inserting row and column to a Matrix\n",
    "#Creating a new column\n",
    "import numpy as np\n",
    "c = np.matrix(\"3,9,0,8,8\")\n",
    "print(c)"
   ]
  },
  {
   "cell_type": "code",
   "execution_count": 3,
   "metadata": {},
   "outputs": [
    {
     "name": "stdout",
     "output_type": "stream",
     "text": [
      "[[7 9 8 9]]\n"
     ]
    }
   ],
   "source": [
    "#Inserting row and column to a Matrix\n",
    "#Creating a new row\n",
    "import numpy as np\n",
    "r = np.matrix(\"7,9,8,9\")\n",
    "print(r)"
   ]
  },
  {
   "cell_type": "code",
   "execution_count": 4,
   "metadata": {},
   "outputs": [
    {
     "ename": "NameError",
     "evalue": "name 'T' is not defined",
     "output_type": "error",
     "traceback": [
      "\u001b[1;31m---------------------------------------------------------------------------\u001b[0m",
      "\u001b[1;31mNameError\u001b[0m                                 Traceback (most recent call last)",
      "\u001b[1;32m<ipython-input-4-a463234b046f>\u001b[0m in \u001b[0;36m<module>\u001b[1;34m\u001b[0m\n\u001b[0;32m      2\u001b[0m \u001b[1;31m#Adding a new column\u001b[0m\u001b[1;33m\u001b[0m\u001b[1;33m\u001b[0m\u001b[1;33m\u001b[0m\u001b[0m\n\u001b[0;32m      3\u001b[0m \u001b[1;32mimport\u001b[0m \u001b[0mnumpy\u001b[0m \u001b[1;32mas\u001b[0m \u001b[0mnp\u001b[0m\u001b[1;33m\u001b[0m\u001b[1;33m\u001b[0m\u001b[0m\n\u001b[1;32m----> 4\u001b[1;33m \u001b[0marr\u001b[0m \u001b[1;33m=\u001b[0m \u001b[0mnp\u001b[0m\u001b[1;33m.\u001b[0m\u001b[0minsert\u001b[0m\u001b[1;33m(\u001b[0m\u001b[0mT\u001b[0m\u001b[1;33m,\u001b[0m\u001b[1;36m0\u001b[0m\u001b[1;33m,\u001b[0m\u001b[0mc\u001b[0m\u001b[1;33m,\u001b[0m\u001b[0maxis\u001b[0m\u001b[1;33m=\u001b[0m\u001b[1;36m1\u001b[0m\u001b[1;33m)\u001b[0m\u001b[1;33m\u001b[0m\u001b[1;33m\u001b[0m\u001b[0m\n\u001b[0m\u001b[0;32m      5\u001b[0m \u001b[0mprint\u001b[0m\u001b[1;33m(\u001b[0m\u001b[0marr\u001b[0m\u001b[1;33m)\u001b[0m\u001b[1;33m\u001b[0m\u001b[1;33m\u001b[0m\u001b[0m\n",
      "\u001b[1;31mNameError\u001b[0m: name 'T' is not defined"
     ]
    }
   ],
   "source": [
    "#Inserting row and column to a Matrix\n",
    "#Adding a new column\n",
    "import numpy as np\n",
    "arr = np.insert(T,0,c,axis=1)\n",
    "print(arr)"
   ]
  },
  {
   "cell_type": "code",
   "execution_count": 5,
   "metadata": {},
   "outputs": [
    {
     "name": "stdout",
     "output_type": "stream",
     "text": [
      "[[ 4  3  6]\n",
      " [ 8  7  7]\n",
      " [13 10  3]]\n"
     ]
    }
   ],
   "source": [
    "#Matrix Arithmetic Operations\n",
    "#Matrix Addition\n",
    "import numpy as np\n",
    "n1 = np.matrix([[1,2,3],[4,5,6],[8,9,1]])\n",
    "n2 = np.matrix([[3,1,3],[4,2,1],[5,1,2]])\n",
    "print(np.add(n1,n2))"
   ]
  },
  {
   "cell_type": "code",
   "execution_count": 7,
   "metadata": {},
   "outputs": [
    {
     "name": "stdout",
     "output_type": "stream",
     "text": [
      "[[-2  1  0]\n",
      " [ 0  3  5]\n",
      " [ 3  8 -1]]\n"
     ]
    }
   ],
   "source": [
    "#Matrix Arithmetic Operations\n",
    "#Matrix Substraction\n",
    "import numpy as np\n",
    "n1 = np.matrix([[1,2,3],[4,5,6],[8,9,1]])\n",
    "n2 = np.matrix([[3,1,3],[4,2,1],[5,1,2]])\n",
    "print(np.subtract(n1,n2))"
   ]
  },
  {
   "cell_type": "code",
   "execution_count": 8,
   "metadata": {},
   "outputs": [
    {
     "name": "stdout",
     "output_type": "stream",
     "text": [
      "[[26  8 11]\n",
      " [62 20 29]\n",
      " [65 27 35]]\n"
     ]
    }
   ],
   "source": [
    "#Matrix Arithmetic Operations\n",
    "#Matrix Multiplication\n",
    "import numpy as np\n",
    "n1 = np.matrix([[1,2,3],[4,5,6],[8,9,1]])\n",
    "n2 = np.matrix([[3,1,3],[4,2,1],[5,1,2]])\n",
    "print(np.dot(n1,n2))"
   ]
  },
  {
   "cell_type": "code",
   "execution_count": 9,
   "metadata": {},
   "outputs": [
    {
     "name": "stdout",
     "output_type": "stream",
     "text": [
      "[[0.33333333 2.         1.        ]\n",
      " [1.         2.5        6.        ]\n",
      " [1.6        9.         0.5       ]]\n"
     ]
    }
   ],
   "source": [
    "#Matrix Arithmetic Operations\n",
    "#Matrix Division\n",
    "import numpy as np\n",
    "n1 = np.matrix([[1,2,3],[4,5,6],[8,9,1]])\n",
    "n2 = np.matrix([[3,1,3],[4,2,1],[5,1,2]])\n",
    "print(np.divide(n1,n2))"
   ]
  },
  {
   "cell_type": "code",
   "execution_count": 13,
   "metadata": {},
   "outputs": [
    {
     "name": "stdout",
     "output_type": "stream",
     "text": [
      "[[4 5 6]]\n",
      "6\n",
      "[[3]\n",
      " [6]\n",
      " [9]]\n"
     ]
    }
   ],
   "source": [
    "#Accessing Data in Matrices\n",
    "import numpy as np\n",
    "m1 = np.matrix([[1,2,3],[4,5,6],[7,8,9]])\n",
    "print(m1[1,:])\n",
    "print(m1[1,2])\n",
    "print(m1[:,2])"
   ]
  },
  {
   "cell_type": "code",
   "execution_count": 15,
   "metadata": {},
   "outputs": [
    {
     "name": "stdout",
     "output_type": "stream",
     "text": [
      "[[1 2 3]\n",
      " [4 5 6]\n",
      " [7 8 9]]\n",
      "[[ 1  2 16]\n",
      " [ 4 -3  6]\n",
      " [ 7  8  9]]\n"
     ]
    }
   ],
   "source": [
    "#Editing Matrices\n",
    "import numpy as np\n",
    "m1 = np.matrix([[1,2,3],[4,5,6],[7,8,9]])\n",
    "print(m1)\n",
    "m1[1,1] = -3\n",
    "m1[0,2] = 16\n",
    "print(m1)"
   ]
  },
  {
   "cell_type": "code",
   "execution_count": 17,
   "metadata": {},
   "outputs": [
    {
     "name": "stdout",
     "output_type": "stream",
     "text": [
      "[[0 1 2]\n",
      " [3 4 5]\n",
      " [6 7 8]]\n"
     ]
    }
   ],
   "source": [
    "#Matrix Linear Algebra\n",
    "import numpy as np\n",
    "m1 = np.matrix(\"0,1,2;3,4,5;6,7,8\")\n",
    "print(m1)"
   ]
  },
  {
   "cell_type": "code",
   "execution_count": 19,
   "metadata": {},
   "outputs": [
    {
     "name": "stdout",
     "output_type": "stream",
     "text": [
      "Determinent of matrix m1: 0.0\n"
     ]
    }
   ],
   "source": [
    "#Matrix Linear Algebra Cont..\n",
    "#Determinant of matrix\n",
    "import numpy as np\n",
    "m1 = np.matrix(\"0,1,2;3,4,5;6,7,8\")\n",
    "det_matrix = np.linalg.det(m1)\n",
    "print(\"Determinent of matrix m1:\",det_matrix)"
   ]
  },
  {
   "cell_type": "code",
   "execution_count": 20,
   "metadata": {},
   "outputs": [
    {
     "name": "stdout",
     "output_type": "stream",
     "text": [
      "Rank of the matrix m1: 2\n"
     ]
    }
   ],
   "source": [
    "#Matrix Linear Algebra Cont..\n",
    "#Rank of matrix\n",
    "import numpy as np\n",
    "m1 = np.matrix(\"0,1,2;3,4,5;6,7,8\")\n",
    "rank_matrix = np.linalg.matrix_rank(m1)\n",
    "print(\"Rank of the matrix m1:\", rank_matrix)"
   ]
  },
  {
   "cell_type": "code",
   "execution_count": 2,
   "metadata": {},
   "outputs": [
    {
     "name": "stdout",
     "output_type": "stream",
     "text": [
      "[ 1.33484692e+01 -1.34846923e+00 -1.15433316e-15] \n",
      " [[ 0.16476382  0.79969966  0.40824829]\n",
      " [ 0.50577448  0.10420579 -0.81649658]\n",
      " [ 0.84678513 -0.59128809  0.40824829]]\n"
     ]
    }
   ],
   "source": [
    "#Matrix Linear Algebra\n",
    "#Eigen values and vectors of matrix\n",
    "import numpy as np\n",
    "m1 = np.matrix(\"0,1,2;3,4,5;6,7,8\")\n",
    "eig_val, eig_vect = np.linalg.eig(m1)\n",
    "print(eig_val,\"\\n\",eig_vect)"
   ]
  },
  {
   "cell_type": "code",
   "execution_count": 4,
   "metadata": {},
   "outputs": [
    {
     "name": "stdout",
     "output_type": "stream",
     "text": [
      "[ 1.33484692e+01 -1.34846923e+00 -1.15433316e-15]\n"
     ]
    }
   ],
   "source": [
    "#Matrix Linear Algebra\n",
    "#Eigen values only\n",
    "import numpy as np\n",
    "m1 = np.matrix(\"0,1,2;3,4,5;6,7,8\")\n",
    "value1 = np.linalg.eigvals(m1)\n",
    "print(value1)"
   ]
  },
  {
   "cell_type": "code",
   "execution_count": 7,
   "metadata": {},
   "outputs": [
    {
     "name": "stdout",
     "output_type": "stream",
     "text": [
      "[[3 1 2]\n",
      " [3 2 5]\n",
      " [6 7 8]]\n",
      "[[ 2]\n",
      " [-1]\n",
      " [ 3]]\n",
      "[[ 1.24242424]\n",
      " [ 0.81818182]\n",
      " [-1.27272727]]\n"
     ]
    }
   ],
   "source": [
    "#Matrix Linear Algebra\n",
    "import numpy as np\n",
    "M = np.matrix(\"3,1,2;3,2,5;6,7,8\")\n",
    "print(M)\n",
    "B = np.matrix(\"2,-1,3\").transpose()\n",
    "print(B)\n",
    "solve = np.linalg.solve(M,B)\n",
    "print(solve)"
   ]
  },
  {
   "cell_type": "code",
   "execution_count": 9,
   "metadata": {},
   "outputs": [
    {
     "name": "stdout",
     "output_type": "stream",
     "text": [
      "[[3 1 2]\n",
      " [3 2 5]\n",
      " [6 7 8]]\n",
      "[[ 0.57575758 -0.18181818 -0.03030303]\n",
      " [-0.18181818 -0.36363636  0.27272727]\n",
      " [-0.27272727  0.45454545 -0.09090909]]\n"
     ]
    }
   ],
   "source": [
    "#Matrix Linear Algebra (Silde 25)\n",
    "import numpy as np\n",
    "M = np.matrix(\"3,1,2;3,2,5;6,7,8\")\n",
    "print(M)\n",
    "Inv = np.linalg.inv(M)\n",
    "print(Inv)"
   ]
  },
  {
   "cell_type": "code",
   "execution_count": 11,
   "metadata": {},
   "outputs": [
    {
     "name": "stdout",
     "output_type": "stream",
     "text": [
      "[[1 2 3]\n",
      " [4 5 6]\n",
      " [7 8 9]]\n",
      "[ 1.61168440e+01 -1.11684397e+00 -9.75918483e-16]\n",
      "[[-0.23197069 -0.78583024  0.40824829]\n",
      " [-0.52532209 -0.08675134 -0.81649658]\n",
      " [-0.8186735   0.61232756  0.40824829]]\n"
     ]
    }
   ],
   "source": [
    "#Eigenvalue Decomposition -I\n",
    "import numpy as np\n",
    "A = np.matrix([[1,2,3],[4,5,6],[7,8,9]])\n",
    "print(A)\n",
    "values, vectors = np.linalg.eig(A)\n",
    "print(values)\n",
    "print(vectors)"
   ]
  },
  {
   "cell_type": "code",
   "execution_count": 12,
   "metadata": {},
   "outputs": [
    {
     "name": "stdout",
     "output_type": "stream",
     "text": [
      "[[1 2 3]\n",
      " [4 5 6]\n",
      " [7 8 9]]\n",
      "[ 1.61168440e+01 -1.11684397e+00 -9.75918483e-16]\n",
      "[[-0.23197069 -0.78583024  0.40824829]\n",
      " [-0.52532209 -0.08675134 -0.81649658]\n",
      " [-0.8186735   0.61232756  0.40824829]]\n",
      "[[-0.23197069 -0.78583024  0.40824829]\n",
      " [-0.52532209 -0.08675134 -0.81649658]\n",
      " [-0.8186735   0.61232756  0.40824829]]\n",
      "[[-0.48295226 -0.59340999 -0.70386772]\n",
      " [-0.91788599 -0.24901003  0.41986593]\n",
      " [ 0.40824829 -0.81649658  0.40824829]]\n"
     ]
    }
   ],
   "source": [
    "#Eigenvalue Decomposition -II\n",
    "import numpy as np\n",
    "A = np.matrix([[1,2,3],[4,5,6],[7,8,9]])\n",
    "print(A)\n",
    "values, vectors = np.linalg.eig(A)\n",
    "print(values)\n",
    "print(vectors)\n",
    "Q = vectors\n",
    "print(Q)\n",
    "R = np.linalg.inv(Q)\n",
    "print(R)"
   ]
  },
  {
   "cell_type": "code",
   "execution_count": 13,
   "metadata": {},
   "outputs": [
    {
     "name": "stdout",
     "output_type": "stream",
     "text": [
      "[[1 2 3]\n",
      " [4 5 6]\n",
      " [7 8 9]]\n",
      "[ 1.61168440e+01 -1.11684397e+00 -9.75918483e-16]\n",
      "[[-0.23197069 -0.78583024  0.40824829]\n",
      " [-0.52532209 -0.08675134 -0.81649658]\n",
      " [-0.8186735   0.61232756  0.40824829]]\n",
      "[[ 1.61168440e+01  0.00000000e+00  0.00000000e+00]\n",
      " [ 0.00000000e+00 -1.11684397e+00  0.00000000e+00]\n",
      " [ 0.00000000e+00  0.00000000e+00 -9.75918483e-16]]\n",
      "[[1. 2. 3.]\n",
      " [4. 5. 6.]\n",
      " [7. 8. 9.]]\n"
     ]
    }
   ],
   "source": [
    "#Eigenvalue Decomposition -III\n",
    "import numpy as np\n",
    "A = np.matrix([[1,2,3],[4,5,6],[7,8,9]])\n",
    "print(A)\n",
    "values, vectors = np.linalg.eig(A)\n",
    "print(values)\n",
    "print(vectors)\n",
    "L = np.diag(values)\n",
    "print(L)\n",
    "B = Q.dot(L).dot(R)\n",
    "print(B)"
   ]
  },
  {
   "cell_type": "code",
   "execution_count": null,
   "metadata": {},
   "outputs": [],
   "source": [
    "#Completed "
   ]
  }
 ],
 "metadata": {
  "kernelspec": {
   "display_name": "Python 3",
   "language": "python",
   "name": "python3"
  },
  "language_info": {
   "codemirror_mode": {
    "name": "ipython",
    "version": 3
   },
   "file_extension": ".py",
   "mimetype": "text/x-python",
   "name": "python",
   "nbconvert_exporter": "python",
   "pygments_lexer": "ipython3",
   "version": "3.8.3"
  }
 },
 "nbformat": 4,
 "nbformat_minor": 4
}
