{
  "nbformat": 4,
  "nbformat_minor": 0,
  "metadata": {
    "colab": {
      "name": "Assignment 2.ipynb",
      "provenance": [],
      "collapsed_sections": []
    },
    "kernelspec": {
      "name": "python3",
      "display_name": "Python 3"
    },
    "language_info": {
      "name": "python"
    }
  },
  "cells": [
    {
      "cell_type": "code",
      "metadata": {
        "id": "qk2kqlEt4wDS",
        "colab": {
          "base_uri": "https://localhost:8080/"
        },
        "outputId": "f6229a5f-ed18-489f-c00b-15ae3937a502"
      },
      "source": [
        "'''\n",
        "1.\tWrite a Python program to check if a given positive integer is a power of two.  \n",
        "Input : 4\n",
        "Output : True\n",
        "'''\n",
        "\n",
        "num = int(input(\"Enter the value: \"))\n",
        "flag=0\n",
        "if(num>0):\n",
        "    while(num%2==0):\n",
        "        print(num)\n",
        "        if(num/2==1):\n",
        "            flag=1\n",
        "            break\n",
        "        num=num/2\n",
        "\n",
        "if(flag==0):\n",
        "    print(\"False\")\n",
        "else:\n",
        "    print(\"True\")"
      ],
      "execution_count": null,
      "outputs": [
        {
          "output_type": "stream",
          "name": "stdout",
          "text": [
            "Enter the value: 4\n",
            "4\n",
            "2.0\n",
            "True\n"
          ]
        }
      ]
    },
    {
      "cell_type": "code",
      "metadata": {
        "id": "r8gsJomK4zFk",
        "colab": {
          "base_uri": "https://localhost:8080/"
        },
        "outputId": "08c89dbe-2299-4a32-cb8f-ce73c8d299bd"
      },
      "source": [
        "'''\n",
        "2.\tWrite a Python program to check if a number is a perfect square. \n",
        "Input : 9\n",
        "Output : True \n",
        "'''\n",
        "import cmath\n",
        "\n",
        "num1 = int(input(\"Enter the number: \"))\n",
        "num2 = cmath.sqrt(num1)\n",
        "if(num1==num2*num2):\n",
        "  print(\"Ture\")\n",
        "else:\n",
        "  print(\"False\")"
      ],
      "execution_count": null,
      "outputs": [
        {
          "output_type": "stream",
          "name": "stdout",
          "text": [
            "Enter the number: 9\n",
            "Ture\n"
          ]
        }
      ]
    },
    {
      "cell_type": "code",
      "metadata": {
        "colab": {
          "base_uri": "https://localhost:8080/"
        },
        "id": "RGruxMZ_OkRM",
        "outputId": "a9036663-eaad-4742-c0d5-bc640dbe879f"
      },
      "source": [
        "'''\n",
        "3.\tWrite a Python program to check if an integer is the power of another integer. \n",
        "Input : 16, 2\n",
        "Output : True \n",
        "'''\n",
        "\n",
        "num1 = int(input(\"Enter the 1st number: \"))\n",
        "num2 = int(input(\"Enter the 2nd number: \"))\n",
        "while(num1%num2==0 and num1>1):\n",
        "    num1=num1/num2\n",
        "\n",
        "if(num1==1):\n",
        "    print(\"True\")\n",
        "else:\n",
        "    print(\"False\")\n",
        "\n"
      ],
      "execution_count": null,
      "outputs": [
        {
          "output_type": "stream",
          "text": [
            "Enter the 1st number: 16\n",
            "Enter the 2nd number: 2\n",
            "True\n"
          ],
          "name": "stdout"
        }
      ]
    },
    {
      "cell_type": "code",
      "metadata": {
        "colab": {
          "base_uri": "https://localhost:8080/"
        },
        "id": "1kR60xOQOkjj",
        "outputId": "d363d727-9d90-4008-c356-4a3418d9e236"
      },
      "source": [
        "'''\n",
        "4.\tWrite a Python program to find the single number in a list that doesn't occur twice. \n",
        "Input : [5, 3, 4, 3, 4]\n",
        "Output : 5 \n",
        "'''\n",
        "\n",
        "list1 =[5,3,4,3,4]\n",
        "for data in list1:\n",
        "  if list1.count(data)==1:\n",
        "    print(data)\n",
        "\n",
        "    #check the DSA python \n"
      ],
      "execution_count": null,
      "outputs": [
        {
          "output_type": "stream",
          "text": [
            "5\n"
          ],
          "name": "stdout"
        }
      ]
    },
    {
      "cell_type": "code",
      "metadata": {
        "colab": {
          "base_uri": "https://localhost:8080/"
        },
        "id": "u5GUQBQYOkmY",
        "outputId": "1ed44db8-54b7-4f34-d1e5-7a81b2cf43f3"
      },
      "source": [
        "'''\n",
        "5. Write a Python program to find the single element appears once in a list where every element appears four times except for one.  \n",
        "Input : [1, 1, 1, 2, 2, 2, 3]\n",
        "Output : 3\n",
        "'''\n",
        "list1 =[1, 1, 1, 2, 2, 2, 3]\n",
        "for data in list1:\n",
        "  if list1.count(data)==1:\n",
        "    print(data)\n",
        "\n",
        "    #Check the dsa\n"
      ],
      "execution_count": null,
      "outputs": [
        {
          "output_type": "stream",
          "text": [
            "3\n"
          ],
          "name": "stdout"
        }
      ]
    },
    {
      "cell_type": "code",
      "metadata": {
        "colab": {
          "base_uri": "https://localhost:8080/"
        },
        "id": "pSBdgqJKOko-",
        "outputId": "4a6b3e09-3610-49ba-934e-6d63044a557b"
      },
      "source": [
        "'''\n",
        "6.\t Write a Python program to add the digits of a positive integer repeatedly until the result has a single digit. \n",
        "Input : 48\n",
        "Output : 3\n",
        "For example given number is 59, the result will be 5.\n",
        "Step 1: 5 + 9 = 14\n",
        "Step 1: 1 + 4 = 5\n",
        "'''\n",
        "def getSum(n):\n",
        "    sum = 0\n",
        "    for digit in str(n): \n",
        "      sum += int(digit)      \n",
        "    if(sum>9):\n",
        "        return getSum(sum)\n",
        "    else:\n",
        "        return sum\n",
        "\n",
        "n = int(input(\"Enter the number: \"))\n",
        "print(getSum(n))\n",
        "\n",
        "#dont convert it into string"
      ],
      "execution_count": null,
      "outputs": [
        {
          "output_type": "stream",
          "text": [
            "Enter the number: 48\n",
            "3\n"
          ],
          "name": "stdout"
        }
      ]
    },
    {
      "cell_type": "code",
      "metadata": {
        "colab": {
          "base_uri": "https://localhost:8080/"
        },
        "id": "mrqtX7P2OkrM",
        "outputId": "32523a78-869b-42e8-df2a-79328fc88a54"
      },
      "source": [
        "'''\n",
        "7.\tWrite a Python program to reverse the digits of an integer. \n",
        "Input : 234\n",
        "Input : -234\n",
        "Output: 432\n",
        "Output : -432\n",
        "'''\n",
        "num1 = int(input(\"Enter the 1st value: \"))\n",
        "num2 = int(input(\"Enter the 2nd value: \"))\n",
        "if num2<0 :\n",
        "    num3=abs(num2)\n",
        "if num1<0 :\n",
        "    num4=abs(num1)\n",
        "if(num1<0):\n",
        "   y=int(str(num4)[::-1])\n",
        "   print(-1*y)\n",
        "else: \n",
        "   print(str(num1)[::-1])\n",
        "if(num2<0):\n",
        "   x=int(str(num3)[::-1])\n",
        "   print(-1*x)\n",
        "else:\n",
        "   print(str(num2)[::-1])\n",
        "\n",
        "#DOnt convert it into string\n"
      ],
      "execution_count": null,
      "outputs": [
        {
          "output_type": "stream",
          "text": [
            "Enter the 1st value: 234\n",
            "Enter the 2nd value: -234\n",
            "432\n",
            "-432\n"
          ],
          "name": "stdout"
        }
      ]
    },
    {
      "cell_type": "code",
      "metadata": {
        "id": "E2ySZk8Yxl1F",
        "colab": {
          "base_uri": "https://localhost:8080/"
        },
        "outputId": "132a3dba-b427-4fb8-df20-0959e78dd903"
      },
      "source": [
        "'''\n",
        "8.\tWrite a Python program to check whether a given number is an ugly number. \n",
        "Input : 12\n",
        "Output : True\n",
        "Ugly numbers are positive numbers whose only prime factors are 2, 3 or 5. The sequence 1, 2, 3, 4, 5, 6, 8, 9, 10, 12, ...\n",
        "shows the first 10 ugly numbers.\n",
        "Note: 1 is typically treated as an ugly number\n",
        "'''\n",
        "num1 = int(input(\"Enter the value: \"))\n",
        "flag=0\n",
        "if num1 != 0:\n",
        "    flag=1\n",
        "    for i in [2,3,5]:\n",
        "        while num1%i==0:\n",
        "            num1 =num1/i\n",
        "            flag=0\n",
        "\n",
        "if(flag==1):\n",
        "    print(\"False\")\n",
        "else:\n",
        "    print(\"True\")"
      ],
      "execution_count": null,
      "outputs": [
        {
          "output_type": "stream",
          "text": [
            "Enter the value: 12\n",
            "True\n"
          ],
          "name": "stdout"
        }
      ]
    },
    {
      "cell_type": "code",
      "metadata": {
        "colab": {
          "base_uri": "https://localhost:8080/"
        },
        "id": "7EygNUPlxl9n",
        "outputId": "6ccac0c0-1f26-44b0-c929-46f474a728f7"
      },
      "source": [
        "'''\n",
        "9.\tWrite a Python program to push all zeros to the end of a list.  \n",
        "Input : [0,2,3,4,6,7,10]\n",
        "Output : [2, 3, 4, 6, 7, 10, 0]\n",
        "'''\n",
        "list1 = [0,2,3,4,0,0,6,7,10]\n",
        "list2 = []\n",
        "list3 = []\n",
        "for data in list1:\n",
        "    if (data!=0):\n",
        "        list2.append(data)\n",
        "    else:\n",
        "        list3.append(data)\n",
        "\n",
        "for data in list3:\n",
        "    list2.append(data)\n",
        "\n",
        "print(list2)\n",
        "\n",
        "\n"
      ],
      "execution_count": null,
      "outputs": [
        {
          "output_type": "stream",
          "text": [
            "[2, 3, 4, 6, 7, 10, 0, 0, 0]\n"
          ],
          "name": "stdout"
        }
      ]
    },
    {
      "cell_type": "code",
      "metadata": {
        "colab": {
          "base_uri": "https://localhost:8080/"
        },
        "id": "KveSgMx7Okt-",
        "outputId": "674be0e9-e390-4429-cd24-b42994daff68"
      },
      "source": [
        "'''\n",
        "10.\tWrite a Python program to find majority element in a list. \n",
        "Input : [1, 2, 3, 4, 5, 5, 5, 5, 5, 5, 6]\n",
        "Output : 5\n",
        "'''\n",
        "list1 = [1, 2, 3, 4, 5, 5, 5, 5, 5, 5, 6]\n",
        "mx=0\n",
        "num=0\n",
        "for data in list1:\n",
        "   if mx<list1.count(data):\n",
        "      mx=list1.count(data)\n",
        "      num=data\n",
        "      \n",
        "print(num)"
      ],
      "execution_count": null,
      "outputs": [
        {
          "output_type": "stream",
          "text": [
            "5\n"
          ],
          "name": "stdout"
        }
      ]
    },
    {
      "cell_type": "code",
      "metadata": {
        "id": "MIieIaR7Okwk"
      },
      "source": [
        ""
      ],
      "execution_count": null,
      "outputs": []
    },
    {
      "cell_type": "code",
      "metadata": {
        "id": "thZ0p6YBOk0C"
      },
      "source": [
        ""
      ],
      "execution_count": null,
      "outputs": []
    }
  ]
}